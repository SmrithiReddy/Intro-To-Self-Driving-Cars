{
 "cells": [
  {
   "cell_type": "code",
   "execution_count": 5,
   "id": "5cfef8cf",
   "metadata": {},
   "outputs": [],
   "source": [
    "import math\n",
    "\n",
    "def guassian_distribution(input_list, mean, standard_deviation):\n",
    "    output = []\n",
    "    scale = 1/math.sqrt(2*math.pi*(standard_deviation**2))\n",
    "    \n",
    "    e_div = (2*(standard_deviation**2))\n",
    "    for number in input_list:\n",
    "        output.append(scale*math.exp(-((number-mean)**2)/e_div))\n",
    "    return output\n",
    "        "
   ]
  },
  {
   "cell_type": "code",
   "execution_count": 6,
   "id": "7a2dbc70",
   "metadata": {},
   "outputs": [
    {
     "name": "stdout",
     "output_type": "stream",
     "text": [
      "[0.004398359598042719, 0.03520653267642995, 0.039104269397545584, 0.03989422804014327, 0.019418605498321296, 0.0007915451582979964]\n"
     ]
    }
   ],
   "source": [
    "x = [29,45,48,50,62,78]\n",
    "output = guassian_distribution(x,50,10)\n",
    "print(output)\n"
   ]
  },
  {
   "cell_type": "code",
   "execution_count": null,
   "id": "22286005",
   "metadata": {},
   "outputs": [],
   "source": []
  }
 ],
 "metadata": {
  "kernelspec": {
   "display_name": "Python 3 (ipykernel)",
   "language": "python",
   "name": "python3"
  },
  "language_info": {
   "codemirror_mode": {
    "name": "ipython",
    "version": 3
   },
   "file_extension": ".py",
   "mimetype": "text/x-python",
   "name": "python",
   "nbconvert_exporter": "python",
   "pygments_lexer": "ipython3",
   "version": "3.9.7"
  }
 },
 "nbformat": 4,
 "nbformat_minor": 5
}
